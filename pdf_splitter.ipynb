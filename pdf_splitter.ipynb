{
 "cells": [
  {
   "cell_type": "code",
   "execution_count": 18,
   "metadata": {},
   "outputs": [],
   "source": [
    "import pdfplumber\n",
    "import sys\n",
    "import os\n",
    "import pathlib\n",
    "import pypdf"
   ]
  },
  {
   "cell_type": "code",
   "execution_count": 19,
   "metadata": {},
   "outputs": [],
   "source": [
    "input_path = \"/Users/ryosuke/AEMC/dev/test_data_set/pdf/20230309_R050735_実教高化学(703)/5実教高化学703_p407-488_口絵_後見返し_表4.pdf\"\n",
    "output_dir = \"output\"\n"
   ]
  },
  {
   "cell_type": "code",
   "execution_count": 20,
   "metadata": {},
   "outputs": [],
   "source": [
    "pdf_basename = os.path.basename(input_path)[:-4]\n",
    "output_dir_path = pathlib.Path(output_dir)\n",
    "reader= pypdf.PdfReader(input_path)"
   ]
  },
  {
   "cell_type": "code",
   "execution_count": 16,
   "metadata": {},
   "outputs": [
    {
     "data": {
      "text/plain": [
       "'5実教高化学703_p407-488_口絵_後見返し_表4'"
      ]
     },
     "execution_count": 16,
     "metadata": {},
     "output_type": "execute_result"
    }
   ],
   "source": [
    "pdf_basename"
   ]
  },
  {
   "cell_type": "code",
   "execution_count": 3,
   "metadata": {},
   "outputs": [
    {
     "name": "stdout",
     "output_type": "stream",
     "text": [
      "88\n"
     ]
    }
   ],
   "source": [
    "print(len(reader.pages))"
   ]
  },
  {
   "cell_type": "code",
   "execution_count": 24,
   "metadata": {},
   "outputs": [],
   "source": [
    "output_dir_path_pdf = output_dir_path / f\"{pdf_basename}\"\n",
    "os.makedirs(output_dir_path_pdf, exist_ok=True)\n",
    "for i, page in enumerate(reader.pages):\n",
    "    save_name =  output_dir_path_pdf / f\"page_{i:03}.pdf\"\n",
    "    writer = pypdf.PdfWriter()\n",
    "    pdfOutput = open(save_name, 'wb')\n",
    "    writer.add_page(page)\n",
    "    writer.write(pdfOutput)\n",
    "    pdfOutput.close()"
   ]
  },
  {
   "cell_type": "code",
   "execution_count": 9,
   "metadata": {},
   "outputs": [
    {
     "name": "stdout",
     "output_type": "stream",
     "text": [
      "\u001b[1m\u001b[36moutput\u001b[m\u001b[m/              pdf_separator.ipynb\n"
     ]
    }
   ],
   "source": [
    "ls"
   ]
  },
  {
   "cell_type": "code",
   "execution_count": 25,
   "metadata": {},
   "outputs": [],
   "source": [
    "import tkinter\n",
    "import tkinter.filedialog"
   ]
  },
  {
   "cell_type": "code",
   "execution_count": 26,
   "metadata": {},
   "outputs": [
    {
     "name": "stderr",
     "output_type": "stream",
     "text": [
      "2023-05-04 22:23:43.634 python[44756:8651485] +[CATransaction synchronize] called within transaction\n",
      "2023-05-04 22:23:43.682 python[44756:8651485] +[CATransaction synchronize] called within transaction\n",
      "2023-05-04 22:23:52.233 python[44756:8651485] +[CATransaction synchronize] called within transaction\n"
     ]
    }
   ],
   "source": [
    "file_path = tkinter.filedialog.askopenfilename()"
   ]
  },
  {
   "cell_type": "code",
   "execution_count": 27,
   "metadata": {},
   "outputs": [
    {
     "data": {
      "text/plain": [
       "'/Users/ryosuke/AEMC/dev/test_data_set/pdf/20230214_R050754_啓林館高生物(703)/05啓林館高生物703_第3部.pdf'"
      ]
     },
     "execution_count": 27,
     "metadata": {},
     "output_type": "execute_result"
    }
   ],
   "source": [
    "file_path"
   ]
  },
  {
   "cell_type": "code",
   "execution_count": 28,
   "metadata": {},
   "outputs": [
    {
     "name": "stderr",
     "output_type": "stream",
     "text": [
      "2023-05-04 22:26:36.298 python[44756:8651485] +[CATransaction synchronize] called within transaction\n",
      "2023-05-04 22:26:36.374 python[44756:8651485] +[CATransaction synchronize] called within transaction\n",
      "2023-05-04 22:26:40.466 python[44756:8651485] +[CATransaction synchronize] called within transaction\n"
     ]
    }
   ],
   "source": [
    "dir = tkinter.filedialog.askdirectory()"
   ]
  },
  {
   "cell_type": "code",
   "execution_count": 29,
   "metadata": {},
   "outputs": [
    {
     "data": {
      "text/plain": [
       "'/Users/ryosuke/sandbox/pdf_separator/output'"
      ]
     },
     "execution_count": 29,
     "metadata": {},
     "output_type": "execute_result"
    },
    {
     "ename": "",
     "evalue": "",
     "output_type": "error",
     "traceback": [
      "\u001b[1;31mThe Kernel crashed while executing code in the the current cell or a previous cell. Please review the code in the cell(s) to identify a possible cause of the failure. Click <a href='https://aka.ms/vscodeJupyterKernelCrash'>here</a> for more info. View Jupyter <a href='command:jupyter.viewOutput'>log</a> for further details."
     ]
    }
   ],
   "source": [
    "dir"
   ]
  },
  {
   "cell_type": "code",
   "execution_count": null,
   "metadata": {},
   "outputs": [],
   "source": []
  }
 ],
 "metadata": {
  "kernelspec": {
   "display_name": "Python 3",
   "language": "python",
   "name": "python3"
  },
  "language_info": {
   "codemirror_mode": {
    "name": "ipython",
    "version": 3
   },
   "file_extension": ".py",
   "mimetype": "text/x-python",
   "name": "python",
   "nbconvert_exporter": "python",
   "pygments_lexer": "ipython3",
   "version": "3.8.10"
  },
  "orig_nbformat": 4
 },
 "nbformat": 4,
 "nbformat_minor": 2
}
